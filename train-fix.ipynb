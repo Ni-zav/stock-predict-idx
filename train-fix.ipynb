{
 "cells": [
  {
   "cell_type": "markdown",
   "id": "7d72e2a2-3613-4143-897d-f20f9e80921b",
   "metadata": {},
   "source": [
    "load\n"
   ]
  },
  {
   "cell_type": "code",
   "execution_count": 2,
   "id": "1729eec8-498f-4e87-8ac7-9a678b50513a",
   "metadata": {},
   "outputs": [],
   "source": [
    "import pandas as pd\n",
    "import numpy as np\n",
    "import os\n",
    "import pickle\n",
    "from sklearn.linear_model import LinearRegression\n",
    "from sklearn.model_selection import train_test_split\n",
    "from sklearn.metrics import mean_squared_error\n",
    "\n",
    "def load_data():\n",
    "    df = pd.read_csv('idx.csv', parse_dates=['Date'])\n",
    "    df.sort_values(['Ticker', 'Date'], inplace=True)\n",
    "    df.dropna(inplace=True)\n",
    "    df.reset_index(drop=True, inplace=True)\n",
    "    return df"
   ]
  },
  {
   "cell_type": "markdown",
   "id": "cd8a35c4-4cf6-4818-a509-6c2b8107460f",
   "metadata": {},
   "source": [
    "define function for training model, using linear regression and MSE (mean squared error)"
   ]
  },
  {
   "cell_type": "code",
   "execution_count": 3,
   "id": "61b3ba59-439a-4195-9a40-0d5c320a6055",
   "metadata": {},
   "outputs": [],
   "source": [
    "\n",
    "def train_model_for_ticker(ticker, df):\n",
    "    ticker_data = df[df['Ticker'] == ticker].copy()\n",
    "    ticker_data.sort_values('Date', inplace=True)\n",
    "    ticker_data.reset_index(drop=True, inplace=True)\n",
    "    \n",
    "    if len(ticker_data) < 10:\n",
    "        return None, None\n",
    "\n",
    "    for lag in range(1, 6):\n",
    "        ticker_data[f'lag_{lag}'] = ticker_data['Close'].shift(lag)\n",
    "    ticker_data.dropna(inplace=True)\n",
    "    \n",
    "    X = ticker_data[[f'lag_{lag}' for lag in range(1, 6)]]\n",
    "    y = ticker_data['Close']\n",
    "    \n",
    "    if len(X) < 10:\n",
    "        return None, None\n",
    "\n",
    "    X_train, X_test, y_train, y_test = train_test_split(\n",
    "        X, y, test_size=0.2, shuffle=False\n",
    "    )\n",
    "    \n",
    "    model = LinearRegression()\n",
    "    model.fit(X_train, y_train)\n",
    "    \n",
    "    y_pred = model.predict(X_test)\n",
    "    mse = mean_squared_error(y_test, y_pred)\n",
    "    \n",
    "    return model, mse\n"
   ]
  },
  {
   "cell_type": "code",
   "execution_count": 4,
   "id": "3ce6d6c4-6199-42a8-8f78-6b07aefc59ea",
   "metadata": {},
   "outputs": [],
   "source": [
    "\n",
    "def get_last_5_closing_prices(ticker, df):\n",
    "    ticker_data = df[df['Ticker'] == ticker].copy()\n",
    "    ticker_data.sort_values('Date', inplace=True)\n",
    "    return ticker_data['Close'].iloc[-5:].values\n"
   ]
  },
  {
   "cell_type": "markdown",
   "id": "68db6e3d-5c59-410a-a1a6-3f7c93d86b7a",
   "metadata": {},
   "source": [
    "define function for next closing price"
   ]
  },
  {
   "cell_type": "code",
   "execution_count": 5,
   "id": "289f82f3-acc6-410c-b6c6-ba1e65ad2c7d",
   "metadata": {},
   "outputs": [],
   "source": [
    "\n",
    "def predict_next_price(ticker, df, models):\n",
    "    if ticker not in models:\n",
    "        return None, \"No trained model available for this ticker.\"\n",
    "        \n",
    "    mse = models[ticker]['mse']\n",
    "    last_5_prices = get_last_5_closing_prices(ticker, df)\n",
    "    \n",
    "    if len(last_5_prices) != 5:\n",
    "        return None, \"Not enough data to make a prediction.\"\n",
    "        \n",
    "    model = models[ticker]['model']\n",
    "    # Create DataFrame with proper feature names\n",
    "    input_features = pd.DataFrame(\n",
    "        [last_5_prices], \n",
    "        columns=[f'lag_{i}' for i in range(1, 6)]\n",
    "    )\n",
    "    predicted_price = model.predict(input_features)[0]\n",
    "    \n",
    "    return predicted_price, mse\n"
   ]
  },
  {
   "cell_type": "markdown",
   "id": "50d85d66-9e12-413d-8707-e58a648f602a",
   "metadata": {},
   "source": [
    "Test on GOTO ticker"
   ]
  },
  {
   "cell_type": "code",
   "execution_count": 6,
   "id": "db569477-5e8a-4b9b-a123-b7765d2e849e",
   "metadata": {},
   "outputs": [
    {
     "name": "stdout",
     "output_type": "stream",
     "text": [
      "MSE: 19.2703\n",
      "Last 5 prices: [67. 65. 66. 66. 66.]\n",
      "Predicted next price: 67.87\n"
     ]
    }
   ],
   "source": [
    "if __name__ == \"__main__\":\n",
    "    df = load_data()\n",
    "    test_ticker = 'GOTO'\n",
    "    \n",
    "    # Load or train models\n",
    "    models_file = 'models.pkl'\n",
    "    if os.path.exists(models_file):\n",
    "        with open(models_file, 'rb') as f:\n",
    "            models = pickle.load(f)\n",
    "    else:\n",
    "        models = {}\n",
    "        for ticker in df['Ticker'].unique():\n",
    "            model, mse = train_model_for_ticker(ticker, df)\n",
    "            if model:\n",
    "                models[ticker] = {'model': model, 'mse': mse}\n",
    "        with open(models_file, 'wb') as f:\n",
    "            pickle.dump(models, f)\n",
    "            \n",
    "    # Make prediction\n",
    "    predicted_price, mse = predict_next_price(test_ticker, df, models)\n",
    "    if predicted_price is not None:\n",
    "        print(f\"MSE: {mse:.4f}\")\n",
    "        print(f\"Last 5 prices: {get_last_5_closing_prices(test_ticker, df)}\")\n",
    "        print(f\"Predicted next price: {predicted_price:.2f}\")\n"
   ]
  }
 ],
 "metadata": {
  "kernelspec": {
   "display_name": "Python 3 (ipykernel)",
   "language": "python",
   "name": "python3"
  },
  "language_info": {
   "codemirror_mode": {
    "name": "ipython",
    "version": 3
   },
   "file_extension": ".py",
   "mimetype": "text/x-python",
   "name": "python",
   "nbconvert_exporter": "python",
   "pygments_lexer": "ipython3",
   "version": "3.13.1"
  }
 },
 "nbformat": 4,
 "nbformat_minor": 5
}
